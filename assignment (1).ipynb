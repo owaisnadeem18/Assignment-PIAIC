{
 "cells": [
  {
   "cell_type": "markdown",
   "id": "de45745e",
   "metadata": {},
   "source": [
    "# Grand Assignment\n",
    "Adnan Shakir\n",
    "Roll # PIAIC 177640\n"
   ]
  },
  {
   "cell_type": "code",
   "execution_count": 6,
   "id": "e32282b7",
   "metadata": {},
   "outputs": [
    {
     "name": "stdout",
     "output_type": "stream",
     "text": [
      "Think positive and see Positive\n"
     ]
    }
   ],
   "source": [
    "## Variables and Strings\n",
    "## Simple Message: Assign a message to a variable, and then print that message.\n",
    "\n",
    "a=(\"Think positive and see Positive\");\n",
    "print(a)"
   ]
  },
  {
   "cell_type": "code",
   "execution_count": 8,
   "id": "dff59951",
   "metadata": {},
   "outputs": [],
   "source": [
    "## 2.Find a quote from a famous person you admire. Print the quote and the name of its author.\n",
    "##Your output should look something like the following, including the quotation marks:\n",
    "## Albert Einstein once said, “A person who never made a mistake never tried anything new.”"
   ]
  },
  {
   "cell_type": "code",
   "execution_count": 9,
   "id": "87a2b883",
   "metadata": {},
   "outputs": [
    {
     "name": "stdout",
     "output_type": "stream",
     "text": [
      "Albert Einstein once said, \"A person who never made a mistake\n",
      "never tried anything new.\"\n"
     ]
    }
   ],
   "source": [
    "print('Albert Einstein once said, \"A person who never made a mistake')\n",
    "print('never tried anything new.\"')"
   ]
  },
  {
   "cell_type": "code",
   "execution_count": 13,
   "id": "ceb13974",
   "metadata": {},
   "outputs": [
    {
     "name": "stdout",
     "output_type": "stream",
     "text": [
      "Quaid-e-Azam once said,With faith, discipline and selfless devotion to duty, there is nothing worthwhile that you cannot achieve\n"
     ]
    }
   ],
   "source": [
    "famous_person ='Quaid-e-Azam '\n",
    "quote =\"With faith, discipline and selfless devotion to duty, there is nothing worthwhile that you cannot achieve\"\n",
    "famous_quote = famous_person + 'once said,' + quote\n",
    "print(famous_quote)"
   ]
  },
  {
   "cell_type": "code",
   "execution_count": 2,
   "id": "43b15391",
   "metadata": {},
   "outputs": [
    {
     "name": "stdout",
     "output_type": "stream",
     "text": [
      "Area of the circle is: 1520.53084433746\n"
     ]
    }
   ],
   "source": [
    "## Calculate Area of a Circle::\n",
    "##Write a Python program which accepts the radius of a circle from the user and compute the area.\n",
    "##Program Console Sample Output 1:\n",
    "##Input Radius: 0.5\n",
    "##Area of Circle with radius 0.5 is 0.7853981634\n",
    "from math import pi\n",
    "r = float(input (\"Enter radius of circle : \"))\n",
    "print (\"Area of the circle is: \" + str(pi * r**2))"
   ]
  },
  {
   "cell_type": "code",
   "execution_count": 3,
   "id": "7284861b",
   "metadata": {},
   "outputs": [
    {
     "name": "stdout",
     "output_type": "stream",
     "text": [
      "Positive number\n"
     ]
    }
   ],
   "source": [
    "## Check Number either positive, negative or zero::\n",
    "##Write a Python program to check if a number is positive,\n",
    "##negative or zero\n",
    "##Program Console Sample Output 1:\n",
    "#Enter Number: -1\n",
    "#negative Number Entered\n",
    "#Program Console Sample Output 2:\n",
    "#Integer: 3\n",
    "#Positive Number Entered\n",
    "#Program Console Sample Output 3:\n",
    "#Integer: 0\n",
    "#Zero Entered\n",
    "num = float(input(\"Enter a number: \"))\n",
    "if num > 0:\n",
    "   print(\"Positive number\")\n",
    "elif num == 0:\n",
    "   print(\"Zero\")\n",
    "else:\n",
    "   print(\"Negative number\")\n"
   ]
  },
  {
   "cell_type": "code",
   "execution_count": 4,
   "id": "94b753f7",
   "metadata": {},
   "outputs": [
    {
     "name": "stdout",
     "output_type": "stream",
     "text": [
      "l is a Consonant\n"
     ]
    }
   ],
   "source": [
    "#Vowel Tester Write a Python program to test whether a passed letter is a vowel or not\n",
    "#Program Console Output 1:\n",
    "#Enter a character: A\n",
    "#Letter A is Vowel\n",
    "#Program Console Output 2:\n",
    "#Enter a character: e\n",
    "#Letter e is Vowel\n",
    "#Program Console Output 2:\n",
    "#Enter a character: N\n",
    "#Letter N is not Vowel.\n",
    "# taking user input\n",
    "\n",
    "\n",
    "ch = input(\"Enter a character: \")\n",
    "\n",
    "if(ch=='A' or ch=='a' or ch=='E' or ch =='e' or ch=='I'\n",
    " or ch=='i' or ch=='O' or ch=='o' or ch=='U' or ch=='u'):\n",
    "    print(ch, \"is a Vowel\")\n",
    "else:\n",
    "    print(ch, \"is a Consonant\")"
   ]
  },
  {
   "cell_type": "code",
   "execution_count": 9,
   "id": "963f7f11",
   "metadata": {},
   "outputs": [
    {
     "name": "stdout",
     "output_type": "stream",
     "text": [
      "Your BMI is  33.333333333333336\n"
     ]
    }
   ],
   "source": [
    "# BMI Calculator\n",
    "##Write a Python program to calculate body mass index Program Console Sample 1:\n",
    "##Enter Height in Cm: 180\n",
    "##Enter Weight in Kg: 75\n",
    "##Your BMI is 23.15\n",
    "height=float(input(\"Enter Height in Cm : \"))\n",
    "weight=float(input(\"Enter Weight in Kg  : \"))\n",
    "BMI=weight/ (height/100)**2\n",
    "print(\"Your BMI is \",BMI)"
   ]
  },
  {
   "cell_type": "code",
   "execution_count": 10,
   "id": "3ec2cce3",
   "metadata": {},
   "outputs": [
    {
     "name": "stdout",
     "output_type": "stream",
     "text": [
      "Mustafa \n",
      "Faiq\n",
      "Faha\n"
     ]
    }
   ],
   "source": [
    "# Store the names of a few of your friends in a list called names\n",
    "# Print each person’s name by accessing each element in the list, one at a time.\n",
    "names = [\"Mustafa \", \"Faiq\", \"Faha\"]\n",
    "\n",
    "print(names[0])\n",
    "print(names[1])\n",
    "print(names[2])"
   ]
  },
  {
   "cell_type": "code",
   "execution_count": 12,
   "id": "664c61f4",
   "metadata": {},
   "outputs": [
    {
     "name": "stdout",
     "output_type": "stream",
     "text": [
      "Mustafa You are my best friend\n",
      "Raza You are my best friend\n",
      "Faiq You are my best friend\n",
      "fahad You are my best friend\n",
      "usman You are my best friend\n"
     ]
    }
   ],
   "source": [
    "#Start with the list you used in Question 4, but instead of just printing each person’s name, print a message to them. The text of each message should be the same, but each message should be personalized with the person’s name.\n",
    "names=[\"Mustafa\",\"Raza\",\"Faiq\",\"fahad\",\"usman\"]\n",
    "print(names[0],\"You are my best friend\")\n",
    "print(names[1],\"You are my best friend\")\n",
    "print(names[2],\"You are my best friend\")\n",
    "print(names[3],\"You are my best friend\")\n",
    "print(names[4],\"You are my best friend\")"
   ]
  },
  {
   "cell_type": "code",
   "execution_count": 13,
   "id": "4b1e0f3c",
   "metadata": {},
   "outputs": [
    {
     "name": "stdout",
     "output_type": "stream",
     "text": [
      "The first three items in the food list are : ['biryani', 'Beef Karhai', 'Chinese Rice']\n",
      "The first three items in the food list are : ['Pulao', 'fish', 'mandi']\n",
      "The first three items in the food list are : ['Chicken karahi', 'nehari', 'Keema Gosht']\n"
     ]
    }
   ],
   "source": [
    "# 10.Make a python program that conatains your nine favourite dishes in a list called foods. Print the message, The first three items in the list are:\n",
    "# Then use a slice to print the first three items from that program’s list.\n",
    "# Print the message, Three items from the middle of the list are:\n",
    "# Use a slice to print three items from the middle of the list.\n",
    "# Print the message, The last three items in the list are:\n",
    "# Use a slice to print the last three items in the list.\n",
    "\n",
    "foods=[\"biryani\",\"Beef Karhai\",\"Chinese Rice\",\"Pulao\",\"fish\",\"mandi\",\"Chicken karahi\",\"nehari\",\"Keema Gosht\"]\n",
    "print(\"The first three items in the food list are :\",foods[:3] )\n",
    "print(\"The first three items in the food list are :\",foods[3:6] )\n",
    "print(\"The first three items in the food list are :\",foods[-3:] )\n",
    "\n"
   ]
  },
  {
   "cell_type": "code",
   "execution_count": 15,
   "id": "331eaf7e",
   "metadata": {},
   "outputs": [
    {
     "name": "stdout",
     "output_type": "stream",
     "text": [
      "FIRST LIST \n",
      "\n",
      "My favorite foods are : biryani \n",
      "\n",
      "My favorite foods are : Beef Karhai \n",
      "\n",
      "My favorite foods are : Chinese Rice \n",
      "\n",
      "My favorite foods are : Pulao \n",
      "\n",
      "My favorite foods are : fish \n",
      "\n",
      "My favorite foods are : mandi \n",
      "\n",
      "My favorite foods are : Chicken karahi \n",
      "\n",
      "My favorite foods are : nehari \n",
      "\n",
      "My favorite foods are : Keema Gosht \n",
      "\n",
      "My favorite foods are : white rice \n",
      "\n",
      "SECOND LIST \n",
      "\n",
      "My friend’s favorite foods are : biryani \n",
      "\n",
      "My friend’s favorite foods are : zinger \n",
      "\n",
      "My friend’s favorite foods are : chinese \n",
      "\n",
      "My friend’s favorite foods are : pulao \n",
      "\n",
      "My friend’s favorite foods are : fish \n",
      "\n",
      "My friend’s favorite foods are : mandi \n",
      "\n",
      "My friend’s favorite foods are : karahi \n",
      "\n",
      "My friend’s favorite foods are : nehari \n",
      "\n",
      "My friend’s favorite foods are : roll \n",
      "\n",
      "My friend’s favorite foods are : burger \n",
      "\n"
     ]
    }
   ],
   "source": [
    "# Start with your program from your last Question8. Make a copy of the list of foods, and call it friend_foods. Then, do the following:\n",
    "# Add a new dish to the original list.\n",
    "# Add a different dish to the list friend_foods.\n",
    "# Prove that you have two separate lists.\n",
    "# Print the message, My favorite pizzas are: and then use a for loop to print the first list.\n",
    "# Print the message,\n",
    "# My friend’s favorite foods are:, and then use a for loop to print the second list.\n",
    "# NOTE: Make sure each new dish is stored in the appropriate list.\n",
    "\n",
    "foods=[\"biryani\",\"Beef Karhai\",\"Chinese Rice\",\"Pulao\",\"fish\",\"mandi\",\"Chicken karahi\",\"nehari\",\"Keema Gosht\"]\n",
    "friend_foods=[\"biryani\",\"zinger\",\"chinese\",\"pulao\",\"fish\",\"mandi\",\"karahi\",\"nehari\",\"roll\"]\n",
    "foods.append(\"white rice\")\n",
    "friend_foods.append(\"burger\")\n",
    "print(\"FIRST LIST \" + \"\\n\")\n",
    "for food in foods:\n",
    "    print(\"My favorite foods are :\",food ,\"\\n\")\n",
    "    \n",
    "    \n",
    "print(\"SECOND LIST \" + \"\\n\")    \n",
    "for friend_food in  friend_foods:\n",
    "    print(\"My friend’s favorite foods are :\",friend_food ,\"\\n\")\n",
    "        "
   ]
  },
  {
   "cell_type": "code",
   "execution_count": null,
   "id": "9a56e785",
   "metadata": {},
   "outputs": [],
   "source": []
  }
 ],
 "metadata": {
  "kernelspec": {
   "display_name": "Python 3.9.12 ('base')",
   "language": "python",
   "name": "python3"
  },
  "language_info": {
   "codemirror_mode": {
    "name": "ipython",
    "version": 3
   },
   "file_extension": ".py",
   "mimetype": "text/x-python",
   "name": "python",
   "nbconvert_exporter": "python",
   "pygments_lexer": "ipython3",
   "version": "3.9.12"
  },
  "vscode": {
   "interpreter": {
    "hash": "138a769097d4f5f987f60ba54176d7c5c9facb626ffa080ecfa7e6671e173367"
   }
  }
 },
 "nbformat": 4,
 "nbformat_minor": 5
}
